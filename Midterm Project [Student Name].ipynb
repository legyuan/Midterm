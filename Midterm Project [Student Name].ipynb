{
 "cells": [
  {
   "cell_type": "markdown",
   "id": "f65b673d",
   "metadata": {},
   "source": [
    "# Kaggle Project"
   ]
  },
  {
   "cell_type": "markdown",
   "id": "8f01a265",
   "metadata": {},
   "source": [
    "## Describe Your Dataset：이 데이터 집합은 학생들의 학습 시간과 학업 성취도 간의 관계를 이해하는 데 귀중한 통찰력을 제공한다."근면하게 학습하고 노력하는 본질 및 학생들의 성적에 주는 상응한 영향을 틀어쥐였다.첫 번째 단에는 각 학생이 공부에 투자한 시간을 상세하게 기록하였고, 그들의 학습 습관을 자세히 보여 주었다.두 번째 단락도 마찬가지로 중요한데, 학생들의 점수로 그 시간에 대한 결과를 나타낸 것이다.이 데이터 집합은 간단하지만이 두 가지 핵심 변수에 깊은 주의를 기울였으며, 학생의 교육 성공에 상당한 영향을 미칠 수 있는 모델, 관련성 및 전략을 밝히는 데 중요한 자료가 되었다.교육자든 연구자든 학생 또는 학습 향상 전략을 추구하는 학생이든,이 데이터 집합은 탐색과 분석을 위한 다양한 가능성을 제공합니다."
   ]
  },
  {
   "cell_type": "markdown",
   "id": "a4f2c779",
   "metadata": {},
   "source": [
    "**URL:** https://www.kaggle.com/..."
   ]
  },
  {
   "cell_type": "markdown",
   "id": "2ee95bd2",
   "metadata": {},
   "source": [
    "**Task:**\n",
    "\n",
    "...\n",
    "\n",
    "..."
   ]
  },
  {
   "cell_type": "markdown",
   "id": "925b65df",
   "metadata": {},
   "source": [
    "**Datasets**\n",
    "\n",
    "* Train dataset: ...\n",
    "\n",
    "* Validation dataset: ...\n",
    "\n",
    "* Test dataset: ..."
   ]
  },
  {
   "cell_type": "markdown",
   "id": "efd627a2",
   "metadata": {},
   "source": [
    "**Features(x):**\n",
    "\n",
    "...\n",
    "\n",
    "..."
   ]
  },
  {
   "cell_type": "markdown",
   "id": "07cad80b",
   "metadata": {},
   "source": [
    "**Target(y):**\n",
    "\n",
    "...\n",
    "\n",
    "..."
   ]
  },
  {
   "cell_type": "markdown",
   "id": "f6df73f8",
   "metadata": {},
   "source": [
    "---"
   ]
  },
  {
   "cell_type": "markdown",
   "id": "a3ccb4a7",
   "metadata": {},
   "source": [
    "## Build Your Model"
   ]
  },
  {
   "cell_type": "markdown",
   "id": "575c8d37",
   "metadata": {},
   "source": [
    "### Data preprocessing"
   ]
  },
  {
   "cell_type": "code",
   "execution_count": null,
   "id": "486febaa",
   "metadata": {},
   "outputs": [],
   "source": [
    "## codes"
   ]
  },
  {
   "cell_type": "markdown",
   "id": "37a5ee14",
   "metadata": {},
   "source": [
    "### Model Construction"
   ]
  },
  {
   "cell_type": "code",
   "execution_count": null,
   "id": "40c15d8e",
   "metadata": {},
   "outputs": [],
   "source": [
    "## codes"
   ]
  },
  {
   "cell_type": "markdown",
   "id": "e814c018",
   "metadata": {},
   "source": [
    "### Train Model & Select Model"
   ]
  },
  {
   "cell_type": "code",
   "execution_count": null,
   "id": "6dcbadfd",
   "metadata": {},
   "outputs": [],
   "source": [
    "## codes"
   ]
  },
  {
   "cell_type": "markdown",
   "id": "a2dea6f0",
   "metadata": {},
   "source": [
    "---"
   ]
  },
  {
   "cell_type": "markdown",
   "id": "8779c8f2",
   "metadata": {},
   "source": [
    "## Performance"
   ]
  },
  {
   "cell_type": "code",
   "execution_count": null,
   "id": "f49b4961",
   "metadata": {},
   "outputs": [],
   "source": [
    "## codes"
   ]
  },
  {
   "cell_type": "markdown",
   "id": "afa2652e",
   "metadata": {},
   "source": [
    "The results explains\n",
    "\n",
    "...."
   ]
  }
 ],
 "metadata": {
  "kernelspec": {
   "display_name": "Python 3",
   "language": "python",
   "name": "python3"
  },
  "language_info": {
   "codemirror_mode": {
    "name": "ipython",
    "version": 3
   },
   "file_extension": ".py",
   "mimetype": "text/x-python",
   "name": "python",
   "nbconvert_exporter": "python",
   "pygments_lexer": "ipython3",
   "version": "3.8.8"
  }
 },
 "nbformat": 4,
 "nbformat_minor": 5
}
